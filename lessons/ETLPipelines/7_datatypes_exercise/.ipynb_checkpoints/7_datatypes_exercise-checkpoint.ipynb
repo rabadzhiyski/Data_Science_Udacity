{
 "cells": [
  {
   "cell_type": "markdown",
   "metadata": {},
   "source": [
    "# Data Types\n",
    "\n",
    "When reading in a data set, pandas will try to guess the data type of each column like float, integer, datettime, bool, etc. In Pandas, strings are called \"object\" dtypes. \n",
    "\n",
    "However, Pandas does not always get this right. That was the issue with the World Bank projects data. Hence, the dtype was specified as a string:\n",
    "```\n",
    "df_projects = pd.read_csv('../data/projects_data.csv', dtype=str)\n",
    "```\n",
    "\n",
    "Run the code cells below to read in the indicator and projects data. Then run the following code cell to see the dtypes of the indicator data frame."
   ]
  },
  {
   "cell_type": "code",
   "execution_count": 1,
   "metadata": {},
   "outputs": [],
   "source": [
    "# Run this code cell\n",
    "\n",
    "import pandas as pd\n",
    "\n",
    "# read in the population data and drop the final column\n",
    "df_indicator = pd.read_csv('../data/population_data.csv', skiprows=4)\n",
    "df_indicator.drop(['Unnamed: 62'], axis=1, inplace=True)\n",
    "\n",
    "# read in the projects data set with all columns type string\n",
    "df_projects = pd.read_csv('../data/projects_data.csv', dtype=str)\n",
    "df_projects.drop(['Unnamed: 56'], axis=1, inplace=True)"
   ]
  },
  {
   "cell_type": "code",
   "execution_count": 4,
   "metadata": {
    "scrolled": true
   },
   "outputs": [
    {
     "data": {
      "text/plain": [
       "Country Name       object\n",
       "Country Code       object\n",
       "Indicator Name     object\n",
       "Indicator Code     object\n",
       "1960              float64\n",
       "                   ...   \n",
       "2013              float64\n",
       "2014              float64\n",
       "2015              float64\n",
       "2016              float64\n",
       "2017              float64\n",
       "Length: 62, dtype: object"
      ]
     },
     "execution_count": 4,
     "metadata": {},
     "output_type": "execute_result"
    }
   ],
   "source": [
    "# Run this code cell \n",
    "df_indicator.dtypes"
   ]
  },
  {
   "cell_type": "code",
   "execution_count": 5,
   "metadata": {},
   "outputs": [
    {
     "name": "stdout",
     "output_type": "stream",
     "text": [
      "<class 'pandas.core.frame.DataFrame'>\n",
      "RangeIndex: 264 entries, 0 to 263\n",
      "Data columns (total 62 columns):\n",
      " #   Column          Non-Null Count  Dtype  \n",
      "---  ------          --------------  -----  \n",
      " 0   Country Name    264 non-null    object \n",
      " 1   Country Code    264 non-null    object \n",
      " 2   Indicator Name  264 non-null    object \n",
      " 3   Indicator Code  264 non-null    object \n",
      " 4   1960            260 non-null    float64\n",
      " 5   1961            260 non-null    float64\n",
      " 6   1962            260 non-null    float64\n",
      " 7   1963            260 non-null    float64\n",
      " 8   1964            260 non-null    float64\n",
      " 9   1965            260 non-null    float64\n",
      " 10  1966            260 non-null    float64\n",
      " 11  1967            260 non-null    float64\n",
      " 12  1968            260 non-null    float64\n",
      " 13  1969            260 non-null    float64\n",
      " 14  1970            260 non-null    float64\n",
      " 15  1971            260 non-null    float64\n",
      " 16  1972            260 non-null    float64\n",
      " 17  1973            260 non-null    float64\n",
      " 18  1974            260 non-null    float64\n",
      " 19  1975            260 non-null    float64\n",
      " 20  1976            260 non-null    float64\n",
      " 21  1977            260 non-null    float64\n",
      " 22  1978            260 non-null    float64\n",
      " 23  1979            260 non-null    float64\n",
      " 24  1980            260 non-null    float64\n",
      " 25  1981            260 non-null    float64\n",
      " 26  1982            260 non-null    float64\n",
      " 27  1983            260 non-null    float64\n",
      " 28  1984            260 non-null    float64\n",
      " 29  1985            260 non-null    float64\n",
      " 30  1986            260 non-null    float64\n",
      " 31  1987            260 non-null    float64\n",
      " 32  1988            260 non-null    float64\n",
      " 33  1989            260 non-null    float64\n",
      " 34  1990            262 non-null    float64\n",
      " 35  1991            262 non-null    float64\n",
      " 36  1992            261 non-null    float64\n",
      " 37  1993            261 non-null    float64\n",
      " 38  1994            261 non-null    float64\n",
      " 39  1995            262 non-null    float64\n",
      " 40  1996            262 non-null    float64\n",
      " 41  1997            262 non-null    float64\n",
      " 42  1998            263 non-null    float64\n",
      " 43  1999            263 non-null    float64\n",
      " 44  2000            263 non-null    float64\n",
      " 45  2001            263 non-null    float64\n",
      " 46  2002            263 non-null    float64\n",
      " 47  2003            263 non-null    float64\n",
      " 48  2004            263 non-null    float64\n",
      " 49  2005            263 non-null    float64\n",
      " 50  2006            263 non-null    float64\n",
      " 51  2007            263 non-null    float64\n",
      " 52  2008            263 non-null    float64\n",
      " 53  2009            263 non-null    float64\n",
      " 54  2010            263 non-null    float64\n",
      " 55  2011            263 non-null    float64\n",
      " 56  2012            262 non-null    float64\n",
      " 57  2013            262 non-null    float64\n",
      " 58  2014            262 non-null    float64\n",
      " 59  2015            262 non-null    float64\n",
      " 60  2016            262 non-null    float64\n",
      " 61  2017            262 non-null    float64\n",
      "dtypes: float64(58), object(4)\n",
      "memory usage: 128.0+ KB\n"
     ]
    }
   ],
   "source": [
    "df_indicator.info()"
   ]
  },
  {
   "cell_type": "markdown",
   "metadata": {},
   "source": [
    "These results look reasonable. Country Name, Country Code, Indicator Name and Indicator Code were all read in as strings. The year columns, which contain the population data, were read in as floats.\n",
    "\n",
    "# Exercise 1\n",
    "\n",
    "Since the population indicator data was read in correctly, you can run calculations on the data. In this first exercise, sum the populations of the United States, Canada, and Mexico by year."
   ]
  },
  {
   "cell_type": "code",
   "execution_count": null,
   "metadata": {},
   "outputs": [],
   "source": [
    "# TODO: Calculate the population sum by year for Canada,\n",
    "#       the United States, and Mexico.\n",
    "\n",
    "# the keepcol variable makes a list of the column names to keep. You can use this if you'd like\n",
    "keepcol = ['Country Name']\n",
    "for i in range(1960, 2018, 1):\n",
    "    keepcol.append(str(i))\n",
    "\n",
    "# TODO: In the df_nafta variable, store a data frame that only contains the rows for \n",
    "#      Canada, United States, and Mexico.\n",
    "df_nafta = None\n",
    "\n",
    "\n",
    "# TODO: Calculate the sum of the values in each column in order to find the total population by year.\n",
    "# You can use the keepcol variable if you want to control which columns get outputted"
   ]
  },
  {
   "cell_type": "markdown",
   "metadata": {},
   "source": [
    "# Exercise 2\n",
    "\n",
    "Now, run the code cell below to look at the dtypes for the projects data set. They should all be \"object\" types, ie strings, because that's what was specified in the code when reading in the csv file. As a reminder, this was the code:\n",
    "```\n",
    "df_projects = pd.read_csv('../data/projects_data.csv', dtype=str)\n",
    "```"
   ]
  },
  {
   "cell_type": "code",
   "execution_count": null,
   "metadata": {},
   "outputs": [],
   "source": [
    "# Run this code cell\n",
    "df_projects.dtypes"
   ]
  },
  {
   "cell_type": "markdown",
   "metadata": {},
   "source": [
    "Many of these columns should be strings, so there's no problem; however, a few columns should be other data types. For example, `boardapprovaldate` should be a datettime and `totalamt` should be an integer. You'll learn about datetime formatting in the next part of the lesson. For this exercise, focus on the 'totalamt' and 'lendprojectcost' columns. Run the code cell below to see what that data looks like"
   ]
  },
  {
   "cell_type": "code",
   "execution_count": null,
   "metadata": {},
   "outputs": [],
   "source": [
    "# Run this code cell\n",
    "df_projects[['totalamt', 'lendprojectcost']].head()"
   ]
  },
  {
   "cell_type": "code",
   "execution_count": null,
   "metadata": {},
   "outputs": [],
   "source": [
    "# Run this code cell to take the sum of the total amount column\n",
    "df_projects['totalamt'].sum()"
   ]
  },
  {
   "cell_type": "markdown",
   "metadata": {},
   "source": [
    "What just happened? Pandas treated the totalamts like strings. In Python, adding strings concatenates the strings together.\n",
    "\n",
    "There are a few ways to remedy this. When using pd.read_csv(), you could specify the column type for every column in the data set. The pd.read_csv() dtype option can accept a dictionary mapping each column name to its data type. You could also specify the `thousands` option with `thousands=','`. This specifies that thousands are separated by a comma in this data set. \n",
    "\n",
    "However, this data is somewhat messy, contains missing values, and has a lot of columns. It might be faster to read in the entire data set with string types and then convert individual columns as needed. For this next exercise, convert the `totalamt` column from a string to an integer type."
   ]
  },
  {
   "cell_type": "code",
   "execution_count": null,
   "metadata": {},
   "outputs": [],
   "source": [
    "# TODO: Convert the totalamt column from a string to a float and save the results back into the totalamt column\n",
    "\n",
    "# Step 1: Remove the commas from the 'totalamt' column\n",
    "# HINT: https://pandas.pydata.org/pandas-docs/version/0.22/generated/pandas.Series.str.replace.html\n",
    "\n",
    "# Step 2: Convert the 'totalamt' column from an object data type (ie string) to an integer data type.\n",
    "# HINT: https://pandas.pydata.org/pandas-docs/version/0.23/generated/pandas.to_numeric.html\n",
    "\n",
    "df_projects['totalamt'] = df_projects['totalamt']"
   ]
  },
  {
   "cell_type": "markdown",
   "metadata": {},
   "source": [
    "# Conclusion\n",
    "\n",
    "With messy data, you might find it easier to read in everything as a string; however, you'll sometimes have to convert those strings to more appropriate data types. When you output the dtypes of a dataframe, you'll generally see these values in the results:\n",
    "* float64\n",
    "* int64\n",
    "* bool\n",
    "* datetime64\n",
    "* timedelta\n",
    "* object\n",
    "\n",
    "where timedelta is the difference between two datetimes and object is a string. As you've seen here, you sometimes need to convert data types from one type to another type. Pandas has a few different methods for converting between data types, and here are link to the documentation:\n",
    "\n",
    "* [astype](https://pandas.pydata.org/pandas-docs/version/0.22/generated/pandas.DataFrame.astype.html#pandas.DataFrame.astype)\n",
    "* [to_datetime](https://pandas.pydata.org/pandas-docs/version/0.22/generated/pandas.to_datetime.html#pandas.to_datetime)\n",
    "* [to_numeric](https://pandas.pydata.org/pandas-docs/version/0.22/generated/pandas.to_numeric.html#pandas.to_numeric)\n",
    "* [to_timedelta](https://pandas.pydata.org/pandas-docs/version/0.22/generated/pandas.to_timedelta.html#pandas.to_timedelta)"
   ]
  },
  {
   "cell_type": "code",
   "execution_count": null,
   "metadata": {},
   "outputs": [],
   "source": []
  },
  {
   "cell_type": "code",
   "execution_count": null,
   "metadata": {},
   "outputs": [],
   "source": []
  }
 ],
 "metadata": {
  "kernelspec": {
   "display_name": "Python 3",
   "language": "python",
   "name": "python3"
  },
  "language_info": {
   "codemirror_mode": {
    "name": "ipython",
    "version": 3
   },
   "file_extension": ".py",
   "mimetype": "text/x-python",
   "name": "python",
   "nbconvert_exporter": "python",
   "pygments_lexer": "ipython3",
   "version": "3.7.9"
  }
 },
 "nbformat": 4,
 "nbformat_minor": 2
}
