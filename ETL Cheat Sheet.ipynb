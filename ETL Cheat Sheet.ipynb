{
 "cells": [
  {
   "cell_type": "markdown",
   "id": "alternative-journalist",
   "metadata": {},
   "source": [
    "# ETL useful commands"
   ]
  },
  {
   "cell_type": "markdown",
   "id": "forced-evans",
   "metadata": {},
   "source": [
    "This is a file for most of the commands used during the ETL process."
   ]
  },
  {
   "cell_type": "markdown",
   "id": "warming-assembly",
   "metadata": {},
   "source": [
    "## Extract"
   ]
  },
  {
   "cell_type": "markdown",
   "id": "impressed-facial",
   "metadata": {},
   "source": [
    "### CSV"
   ]
  },
  {
   "cell_type": "markdown",
   "id": "pediatric-indication",
   "metadata": {},
   "source": [
    "Import pandas and assign variable"
   ]
  },
  {
   "cell_type": "code",
   "execution_count": null,
   "id": "academic-complexity",
   "metadata": {},
   "outputs": [],
   "source": [
    "# TODO: import the projects_data.csv file using the pandas library\n",
    "# Store the results in the df_projects variable\n",
    "import pandas as pd\n",
    "df_projects = pd.read_csv('projects_data.csv')\n",
    "\n",
    "# TODO: Read in the projects_data.csv file using the read_csv method \n",
    "# and dtype = str option\n",
    "df_projects = pd.read_csv('projects_data.csv', dtype=str)"
   ]
  },
  {
   "cell_type": "markdown",
   "id": "heated-hampshire",
   "metadata": {},
   "source": [
    "Explore data"
   ]
  },
  {
   "cell_type": "code",
   "execution_count": null,
   "id": "competent-designer",
   "metadata": {},
   "outputs": [],
   "source": [
    "df_projects.head()\n",
    "\n",
    "# TODO: count the number of null values in the data set\n",
    "# HINT: use the isnull() and sum() methods\n",
    "df_projects.isnull().sum()\n",
    "\n",
    "# TODO: output the shape of the data frame\n",
    "df_projects.shape"
   ]
  },
  {
   "cell_type": "markdown",
   "id": "engaging-chocolate",
   "metadata": {},
   "source": [
    "Check first 10 lines of the data"
   ]
  },
  {
   "cell_type": "code",
   "execution_count": null,
   "id": "periodic-citizen",
   "metadata": {},
   "outputs": [],
   "source": [
    "# TODO: Print out the first 10 lines of the data set, line by line.\n",
    "# HINT: You can't use the read_csv method from pandas\n",
    "# HINT: to do this manually, you'll need to use pure Python\n",
    "# HINT: the open(), readline(), and close() methods should be helpful\n",
    "# HINT: Use a for loop\n",
    "d = open('population_data.csv')\n",
    "for i in range(10):\n",
    "    line = d.readline()\n",
    "    print(\"line\", i, line)\n",
    "d.close()"
   ]
  },
  {
   "cell_type": "code",
   "execution_count": null,
   "id": "likely-daniel",
   "metadata": {},
   "outputs": [],
   "source": [
    "# Skip the first 4 raws of a dataframe\n",
    "df_population = pd.read_csv('population_data.csv', skiprows=4)"
   ]
  },
  {
   "cell_type": "code",
   "execution_count": null,
   "id": "suspected-observer",
   "metadata": {},
   "outputs": [],
   "source": [
    "# TODO: drop the 'Unnamed: 62' column from the data frame, \n",
    "# and save the results in the df_population variable\n",
    "\n",
    "df_population = df_population.drop('Unnamed: 62', axis=1)"
   ]
  },
  {
   "cell_type": "code",
   "execution_count": null,
   "id": "former-flour",
   "metadata": {},
   "outputs": [],
   "source": [
    "# TODO: Now output any row that contains a null value.\n",
    "# HINT: Use the isnull() and any() methods. You'll want to use axis=1\n",
    "# in the any method.\n",
    "df_population.isnull().any(axis=1)"
   ]
  },
  {
   "cell_type": "markdown",
   "id": "rubber-premium",
   "metadata": {},
   "source": [
    "### JSON & XML"
   ]
  },
  {
   "cell_type": "code",
   "execution_count": null,
   "id": "automotive-settle",
   "metadata": {},
   "outputs": [],
   "source": [
    "### \n",
    "#   Run the following cell.\n",
    "#   This cell loads a function that prints the first n lines of\n",
    "#   a file.\n",
    "#\n",
    "#   Then this function is called on the JSON file to print out\n",
    "#   the first line of the population_data.json file\n",
    "###\n",
    "\n",
    "def print_lines(n, file_name):\n",
    "    f = open(file_name)\n",
    "    for i in range(n):\n",
    "        print(f.readline())\n",
    "    f.close()\n",
    "    \n",
    "print_lines(1, 'population_data.json')"
   ]
  },
  {
   "cell_type": "code",
   "execution_count": null,
   "id": "derived-diabetes",
   "metadata": {},
   "outputs": [],
   "source": [
    "# TODO: Read in the population_data.json file using pandas's \n",
    "# read_json method. Don't forget to specific the orient option\n",
    "# store the results in df_json\n",
    "\n",
    "import pandas as pd\n",
    "df_json = pd.read_json('population_data.json', orient='records')"
   ]
  },
  {
   "cell_type": "code",
   "execution_count": null,
   "id": "familiar-scott",
   "metadata": {},
   "outputs": [],
   "source": [
    "# TODO: Use the head method to see the first few rows of the resulting\n",
    "# dataframe\n",
    "df_json.head()"
   ]
  },
  {
   "cell_type": "code",
   "execution_count": null,
   "id": "supposed-anniversary",
   "metadata": {},
   "outputs": [],
   "source": [
    "import json\n",
    "\n",
    "# read in the JSON file\n",
    "with open('population_data.json') as f:\n",
    "    json_data = json.load(f)\n",
    "\n",
    "# print the first record in the JSON file\n",
    "print(json_data[0])\n",
    "print('\\n')\n",
    "\n",
    "# show that JSON data is essentially a dictionary\n",
    "print(json_data[0]['Country Name'])\n",
    "print(json_data[0]['Country Code'])"
   ]
  }
 ],
 "metadata": {
  "kernelspec": {
   "display_name": "Python 3",
   "language": "python",
   "name": "python3"
  },
  "language_info": {
   "codemirror_mode": {
    "name": "ipython",
    "version": 3
   },
   "file_extension": ".py",
   "mimetype": "text/x-python",
   "name": "python",
   "nbconvert_exporter": "python",
   "pygments_lexer": "ipython3",
   "version": "3.7.9"
  }
 },
 "nbformat": 4,
 "nbformat_minor": 5
}
